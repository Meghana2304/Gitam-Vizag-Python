{
 "cells": [
  {
   "cell_type": "markdown",
   "metadata": {},
   "source": [
    "# Python Programming and Markdown\n",
    "## Python Programming and Markdown\n",
    "### Python Programming and Markdown\n",
    "#### Python Programming and Markdown\n",
    "##### Python Programming and Markdown\n",
    "###### Python Programming and Markdown"
   ]
  },
  {
   "cell_type": "markdown",
   "metadata": {},
   "source": [
    "### Python Programming\n",
    "- Point 1\n",
    "    - Point 1.1\n",
    "- Point 2\n",
    "    - Point 2.1\n",
    "    - Point 2.2\n",
    "- Point 3"
   ]
  },
  {
   "cell_type": "markdown",
   "metadata": {},
   "source": [
    "<img src='python.png' />"
   ]
  },
  {
   "cell_type": "markdown",
   "metadata": {},
   "source": [
    "* **Point**\n",
    "* *Point* \n",
    "* ***Point***"
   ]
  },
  {
   "cell_type": "markdown",
   "metadata": {},
   "source": [
    "### Adding the linking to Markdown\n",
    "- Google site - [Google][1]\n",
    "[1]:http//www.google.com"
   ]
  },
  {
   "cell_type": "markdown",
   "metadata": {},
   "source": [
    "# Python Programming\n",
    "\n",
    "- Python Version 3.7\n",
    "- Object Oriented Program\n",
    "* Functional Programming\n",
    "- Scripting Programming"
   ]
  },
  {
   "cell_type": "code",
   "execution_count": 5,
   "metadata": {},
   "outputs": [
    {
     "name": "stdout",
     "output_type": "stream",
     "text": [
      "Hello Gitam\n"
     ]
    }
   ],
   "source": [
    "print('Hello Gitam')"
   ]
  },
  {
   "cell_type": "code",
   "execution_count": 7,
   "metadata": {},
   "outputs": [
    {
     "name": "stdout",
     "output_type": "stream",
     "text": [
      "Hello , Gitam\n",
      "Vizag\n"
     ]
    }
   ],
   "source": [
    "print('Hello , Gitam')\n",
    "print('Vizag')"
   ]
  },
  {
   "cell_type": "code",
   "execution_count": 8,
   "metadata": {},
   "outputs": [
    {
     "name": "stdout",
     "output_type": "stream",
     "text": [
      "Hello Gitam ||| Vizag\n"
     ]
    }
   ],
   "source": [
    "print('Hello Gitam','|||', end=' ')\n",
    "print('Vizag')"
   ]
  },
  {
   "cell_type": "markdown",
   "metadata": {},
   "source": [
    "### Data Types and Data Type Conversion\n",
    "- int\n",
    "- float\n",
    "- string"
   ]
  },
  {
   "cell_type": "code",
   "execution_count": 11,
   "metadata": {},
   "outputs": [
    {
     "name": "stdout",
     "output_type": "stream",
     "text": [
      "100\n",
      "Python Programming\n",
      "Python Programming\n",
      "a\n",
      "65.546486541\n",
      "<class 'int'>\n",
      "<class 'str'>\n",
      "<class 'str'>\n",
      "<class 'str'>\n",
      "<class 'float'>\n"
     ]
    }
   ],
   "source": [
    "a = 100\n",
    "s = 'Python Programming'\n",
    "s1 = \"Python Programming\"\n",
    "s2 = 'a'\n",
    "f = 65.546486541\n",
    "print(a)\n",
    "print(s)\n",
    "print(s1)\n",
    "print(s2)\n",
    "print(f)\n",
    "print(type(a))\n",
    "print(type(s))\n",
    "print(type(s1))\n",
    "print(type(s2))\n",
    "print(type(f))"
   ]
  },
  {
   "cell_type": "markdown",
   "metadata": {},
   "source": [
    "### Data Type Conversion\n",
    "* int()\n",
    "* float()\n",
    "* str()"
   ]
  },
  {
   "cell_type": "code",
   "execution_count": 16,
   "metadata": {},
   "outputs": [
    {
     "name": "stdout",
     "output_type": "stream",
     "text": [
      "100 <class 'int'>\n",
      "100 <class 'str'>\n"
     ]
    }
   ],
   "source": [
    "a = 100\n",
    "print(a,end=' ')\n",
    "print(type(a))\n",
    "s1 = str(a) \n",
    "print(s1,end=' ')\n",
    "print(type(s1))"
   ]
  },
  {
   "cell_type": "code",
   "execution_count": 23,
   "metadata": {},
   "outputs": [
    {
     "name": "stdout",
     "output_type": "stream",
     "text": [
      "1003.123 <class 'str'>\n",
      "1003.123 <class 'float'>\n",
      "1003 <class 'int'>\n"
     ]
    }
   ],
   "source": [
    "s1 = \"1003.123\"\n",
    "print(s1,end=' ')\n",
    "print(type(s1))\n",
    "a1 = float(s1)#float() function converts to float\n",
    "print(a1,end=' ')\n",
    "print(type(a1))\n",
    "a2 = int(a1)#int() function converts to int\n",
    "print(a2,end=' ')\n",
    "print(type(a2))"
   ]
  },
  {
   "cell_type": "code",
   "execution_count": 26,
   "metadata": {},
   "outputs": [
    {
     "name": "stdout",
     "output_type": "stream",
     "text": [
      "4\n"
     ]
    }
   ],
   "source": [
    "# Digit count of a number\n",
    "a = 1234\n",
    "print(len(str(a)))"
   ]
  },
  {
   "cell_type": "markdown",
   "metadata": {},
   "source": [
    "### Input() Function\n",
    "* Read the input to the Python Program\n",
    "* Reads the input in terms of string format"
   ]
  },
  {
   "cell_type": "code",
   "execution_count": 28,
   "metadata": {},
   "outputs": [
    {
     "name": "stdout",
     "output_type": "stream",
     "text": [
      "Enter Your Name: Meghana\n",
      "Meghana <class 'str'>\n"
     ]
    }
   ],
   "source": [
    "s1 = input('Enter Your Name: ')\n",
    "print(s1,type(s1))"
   ]
  },
  {
   "cell_type": "code",
   "execution_count": 29,
   "metadata": {},
   "outputs": [
    {
     "name": "stdout",
     "output_type": "stream",
     "text": [
      "Enter a number: 100\n",
      "100 <class 'int'>\n"
     ]
    }
   ],
   "source": [
    "a1 = int(input('Enter a number: '))\n",
    "print(a1,type(a1))"
   ]
  },
  {
   "cell_type": "markdown",
   "metadata": {},
   "source": [
    "## Operators\n",
    "* +\n",
    "* -\n",
    "* /\n",
    "* //\n",
    "- **\n",
    "- %"
   ]
  },
  {
   "cell_type": "code",
   "execution_count": 30,
   "metadata": {},
   "outputs": [
    {
     "name": "stdout",
     "output_type": "stream",
     "text": [
      "3.3333333333333335\n",
      "3\n",
      "8\n"
     ]
    }
   ],
   "source": [
    "print(10/3)\n",
    "print(10//3)\n",
    "print(2**3)"
   ]
  },
  {
   "cell_type": "code",
   "execution_count": 31,
   "metadata": {},
   "outputs": [
    {
     "name": "stdout",
     "output_type": "stream",
     "text": [
      "8.0\n"
     ]
    }
   ],
   "source": [
    "# Preceding Levels of Operators\n",
    "# Power, Division, Addition\n",
    "x = 1 + 2 ** 3 / 4 + 5\n",
    "print(x)"
   ]
  },
  {
   "cell_type": "markdown",
   "metadata": {},
   "source": [
    "### Logical Operators\n",
    "- and\n",
    "- or\n",
    "- not"
   ]
  },
  {
   "cell_type": "code",
   "execution_count": 37,
   "metadata": {},
   "outputs": [
    {
     "name": "stdout",
     "output_type": "stream",
     "text": [
      "True <class 'bool'>\n",
      "True <class 'bool'>\n"
     ]
    }
   ],
   "source": [
    "a = 10\n",
    "b = (a > 9) and (a >= 10)\n",
    "print(b,type(b))\n",
    "b = (a > 9) or (a > 100)\n",
    "print(b,type(b))"
   ]
  },
  {
   "cell_type": "markdown",
   "metadata": {},
   "source": [
    "### Control Flow Statements\n",
    "- Conditional Statements\n",
    "    - if-else\n",
    "- Looping Statements\n",
    "    - while\n",
    "    - for"
   ]
  },
  {
   "cell_type": "code",
   "execution_count": 43,
   "metadata": {},
   "outputs": [
    {
     "name": "stdout",
     "output_type": "stream",
     "text": [
      " 16\n",
      "Even\n"
     ]
    }
   ],
   "source": [
    "# Read a number as input\n",
    "# Print the output as Even or Odd\n",
    "a = int(input(\" \"))\n",
    "if(a%2 == 0):\n",
    "    print('Even')\n",
    "else:\n",
    "    print('Odd')"
   ]
  },
  {
   "cell_type": "code",
   "execution_count": 42,
   "metadata": {},
   "outputs": [
    {
     "name": "stdout",
     "output_type": "stream",
     "text": [
      " -46\n",
      "Negative Number\n"
     ]
    }
   ],
   "source": [
    "# Read a number as input\n",
    "# Print the output as Zero, Positive or Negative number\n",
    "a = int(input(\" \"))\n",
    "if a == 0:\n",
    "    print('Zero')\n",
    "elif a > 0:\n",
    "    print('Positive Number')\n",
    "else:\n",
    "    print('Negative Number')"
   ]
  },
  {
   "cell_type": "code",
   "execution_count": null,
   "metadata": {},
   "outputs": [],
   "source": []
  }
 ],
 "metadata": {
  "kernelspec": {
   "display_name": "Python 3",
   "language": "python",
   "name": "python3"
  },
  "language_info": {
   "codemirror_mode": {
    "name": "ipython",
    "version": 3
   },
   "file_extension": ".py",
   "mimetype": "text/x-python",
   "name": "python",
   "nbconvert_exporter": "python",
   "pygments_lexer": "ipython3",
   "version": "3.7.1"
  }
 },
 "nbformat": 4,
 "nbformat_minor": 2
}
